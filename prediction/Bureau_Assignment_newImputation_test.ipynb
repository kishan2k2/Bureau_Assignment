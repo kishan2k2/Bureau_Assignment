{
  "nbformat": 4,
  "nbformat_minor": 0,
  "metadata": {
    "colab": {
      "provenance": []
    },
    "kernelspec": {
      "name": "python3",
      "display_name": "Python 3"
    },
    "language_info": {
      "name": "python"
    }
  },
  "cells": [
    {
      "cell_type": "code",
      "execution_count": 40,
      "metadata": {
        "id": "N1Tb5-zJwlPL"
      },
      "outputs": [],
      "source": [
        "import pandas as pd\n",
        "df = pd.read_csv('/content/Assignment_Test.csv')"
      ]
    },
    {
      "cell_type": "code",
      "source": [
        "df_UID = df['UID']"
      ],
      "metadata": {
        "id": "nKA0WdhZQgPq"
      },
      "execution_count": 41,
      "outputs": []
    },
    {
      "cell_type": "code",
      "source": [
        "df.head()"
      ],
      "metadata": {
        "colab": {
          "base_uri": "https://localhost:8080/",
          "height": 342
        },
        "id": "4KErobdaxVO5",
        "outputId": "59681130-cff8-4b72-c4d3-a610adcca33f"
      },
      "execution_count": 42,
      "outputs": [
        {
          "output_type": "execute_result",
          "data": {
            "text/plain": [
              "                   UID  DEALER ID APPLICATION LOGIN DATE HDB BRANCH NAME  \\\n",
              "0  1844045271814558464     105615               07/12/22        HUBLI-SF   \n",
              "1  1840349097823778816      91593             07/14/2022        SATNA-SF   \n",
              "2  1488102613362294272      74152               07/07/22      LUCKNOW-SF   \n",
              "3   555529923942874624     110164             07/13/2022       KOLLAM-SF   \n",
              "4  1010213070486150912     113037               07/08/22         PURI-SF   \n",
              "\n",
              "  HDB BRANCH STATE FIRST NAME MIDDLE NAME   LAST NAME      mobile  \\\n",
              "0              NaN  VENUGOPAL           H  BHARADHVAJ  7019759674   \n",
              "1   MADHYA PRADESH   SHIVDHAR         NaN   CHAUDHARY  7697884828   \n",
              "2    UTTAR PRADESH     MANISH         NaN       VERMA  8840079825   \n",
              "3           KERALA      DEEPU  RAVEENDRAN  RAVEENDRAN  8089276854   \n",
              "4           ORISSA     AKASHA         NaN     PRADHAN  9337511958   \n",
              "\n",
              "  AADHAR VERIFIED  ... Phone Social Premium.rummycircle  \\\n",
              "0              NO  ...                              NaN   \n",
              "1              NO  ...                              NaN   \n",
              "2              NO  ...                              NaN   \n",
              "3              NO  ...                              NaN   \n",
              "4              NO  ...                              NaN   \n",
              "\n",
              "   Phone Social Premium.shaadi Phone Social Premium.skype  \\\n",
              "0                          0.0                        0.0   \n",
              "1                          0.0                        0.0   \n",
              "2                          0.0                        1.0   \n",
              "3                          0.0                        0.0   \n",
              "4                          0.0                        0.0   \n",
              "\n",
              "   Phone Social Premium.toi Phone Social Premium.whatsapp  \\\n",
              "0                       0.0                           0.0   \n",
              "1                       NaN                           0.0   \n",
              "2                       0.0                           1.0   \n",
              "3                       0.0                           NaN   \n",
              "4                       0.0                           NaN   \n",
              "\n",
              "   Phone Social Premium.yatra  Phone Social Premium.zoho phone_digitalage  \\\n",
              "0                         NaN                        0.0              676   \n",
              "1                         NaN                        0.0              897   \n",
              "2                         NaN                        0.0              839   \n",
              "3                         NaN                        0.0             2050   \n",
              "4                         NaN                        0.0               -1   \n",
              "\n",
              "  phone_nameMatchScore phone_phoneFootprintStrengthOverall  \n",
              "0                100.0                              Medium  \n",
              "1                 -1.0                                 Low  \n",
              "2                100.0                              Medium  \n",
              "3                 -1.0                                 Low  \n",
              "4                 -1.0                            Very Low  \n",
              "\n",
              "[5 rows x 55 columns]"
            ],
            "text/html": [
              "\n",
              "  <div id=\"df-d13d04bf-2aa1-48d4-9e4c-d580fc2fce24\" class=\"colab-df-container\">\n",
              "    <div>\n",
              "<style scoped>\n",
              "    .dataframe tbody tr th:only-of-type {\n",
              "        vertical-align: middle;\n",
              "    }\n",
              "\n",
              "    .dataframe tbody tr th {\n",
              "        vertical-align: top;\n",
              "    }\n",
              "\n",
              "    .dataframe thead th {\n",
              "        text-align: right;\n",
              "    }\n",
              "</style>\n",
              "<table border=\"1\" class=\"dataframe\">\n",
              "  <thead>\n",
              "    <tr style=\"text-align: right;\">\n",
              "      <th></th>\n",
              "      <th>UID</th>\n",
              "      <th>DEALER ID</th>\n",
              "      <th>APPLICATION LOGIN DATE</th>\n",
              "      <th>HDB BRANCH NAME</th>\n",
              "      <th>HDB BRANCH STATE</th>\n",
              "      <th>FIRST NAME</th>\n",
              "      <th>MIDDLE NAME</th>\n",
              "      <th>LAST NAME</th>\n",
              "      <th>mobile</th>\n",
              "      <th>AADHAR VERIFIED</th>\n",
              "      <th>...</th>\n",
              "      <th>Phone Social Premium.rummycircle</th>\n",
              "      <th>Phone Social Premium.shaadi</th>\n",
              "      <th>Phone Social Premium.skype</th>\n",
              "      <th>Phone Social Premium.toi</th>\n",
              "      <th>Phone Social Premium.whatsapp</th>\n",
              "      <th>Phone Social Premium.yatra</th>\n",
              "      <th>Phone Social Premium.zoho</th>\n",
              "      <th>phone_digitalage</th>\n",
              "      <th>phone_nameMatchScore</th>\n",
              "      <th>phone_phoneFootprintStrengthOverall</th>\n",
              "    </tr>\n",
              "  </thead>\n",
              "  <tbody>\n",
              "    <tr>\n",
              "      <th>0</th>\n",
              "      <td>1844045271814558464</td>\n",
              "      <td>105615</td>\n",
              "      <td>07/12/22</td>\n",
              "      <td>HUBLI-SF</td>\n",
              "      <td>NaN</td>\n",
              "      <td>VENUGOPAL</td>\n",
              "      <td>H</td>\n",
              "      <td>BHARADHVAJ</td>\n",
              "      <td>7019759674</td>\n",
              "      <td>NO</td>\n",
              "      <td>...</td>\n",
              "      <td>NaN</td>\n",
              "      <td>0.0</td>\n",
              "      <td>0.0</td>\n",
              "      <td>0.0</td>\n",
              "      <td>0.0</td>\n",
              "      <td>NaN</td>\n",
              "      <td>0.0</td>\n",
              "      <td>676</td>\n",
              "      <td>100.0</td>\n",
              "      <td>Medium</td>\n",
              "    </tr>\n",
              "    <tr>\n",
              "      <th>1</th>\n",
              "      <td>1840349097823778816</td>\n",
              "      <td>91593</td>\n",
              "      <td>07/14/2022</td>\n",
              "      <td>SATNA-SF</td>\n",
              "      <td>MADHYA PRADESH</td>\n",
              "      <td>SHIVDHAR</td>\n",
              "      <td>NaN</td>\n",
              "      <td>CHAUDHARY</td>\n",
              "      <td>7697884828</td>\n",
              "      <td>NO</td>\n",
              "      <td>...</td>\n",
              "      <td>NaN</td>\n",
              "      <td>0.0</td>\n",
              "      <td>0.0</td>\n",
              "      <td>NaN</td>\n",
              "      <td>0.0</td>\n",
              "      <td>NaN</td>\n",
              "      <td>0.0</td>\n",
              "      <td>897</td>\n",
              "      <td>-1.0</td>\n",
              "      <td>Low</td>\n",
              "    </tr>\n",
              "    <tr>\n",
              "      <th>2</th>\n",
              "      <td>1488102613362294272</td>\n",
              "      <td>74152</td>\n",
              "      <td>07/07/22</td>\n",
              "      <td>LUCKNOW-SF</td>\n",
              "      <td>UTTAR PRADESH</td>\n",
              "      <td>MANISH</td>\n",
              "      <td>NaN</td>\n",
              "      <td>VERMA</td>\n",
              "      <td>8840079825</td>\n",
              "      <td>NO</td>\n",
              "      <td>...</td>\n",
              "      <td>NaN</td>\n",
              "      <td>0.0</td>\n",
              "      <td>1.0</td>\n",
              "      <td>0.0</td>\n",
              "      <td>1.0</td>\n",
              "      <td>NaN</td>\n",
              "      <td>0.0</td>\n",
              "      <td>839</td>\n",
              "      <td>100.0</td>\n",
              "      <td>Medium</td>\n",
              "    </tr>\n",
              "    <tr>\n",
              "      <th>3</th>\n",
              "      <td>555529923942874624</td>\n",
              "      <td>110164</td>\n",
              "      <td>07/13/2022</td>\n",
              "      <td>KOLLAM-SF</td>\n",
              "      <td>KERALA</td>\n",
              "      <td>DEEPU</td>\n",
              "      <td>RAVEENDRAN</td>\n",
              "      <td>RAVEENDRAN</td>\n",
              "      <td>8089276854</td>\n",
              "      <td>NO</td>\n",
              "      <td>...</td>\n",
              "      <td>NaN</td>\n",
              "      <td>0.0</td>\n",
              "      <td>0.0</td>\n",
              "      <td>0.0</td>\n",
              "      <td>NaN</td>\n",
              "      <td>NaN</td>\n",
              "      <td>0.0</td>\n",
              "      <td>2050</td>\n",
              "      <td>-1.0</td>\n",
              "      <td>Low</td>\n",
              "    </tr>\n",
              "    <tr>\n",
              "      <th>4</th>\n",
              "      <td>1010213070486150912</td>\n",
              "      <td>113037</td>\n",
              "      <td>07/08/22</td>\n",
              "      <td>PURI-SF</td>\n",
              "      <td>ORISSA</td>\n",
              "      <td>AKASHA</td>\n",
              "      <td>NaN</td>\n",
              "      <td>PRADHAN</td>\n",
              "      <td>9337511958</td>\n",
              "      <td>NO</td>\n",
              "      <td>...</td>\n",
              "      <td>NaN</td>\n",
              "      <td>0.0</td>\n",
              "      <td>0.0</td>\n",
              "      <td>0.0</td>\n",
              "      <td>NaN</td>\n",
              "      <td>NaN</td>\n",
              "      <td>0.0</td>\n",
              "      <td>-1</td>\n",
              "      <td>-1.0</td>\n",
              "      <td>Very Low</td>\n",
              "    </tr>\n",
              "  </tbody>\n",
              "</table>\n",
              "<p>5 rows × 55 columns</p>\n",
              "</div>\n",
              "    <div class=\"colab-df-buttons\">\n",
              "\n",
              "  <div class=\"colab-df-container\">\n",
              "    <button class=\"colab-df-convert\" onclick=\"convertToInteractive('df-d13d04bf-2aa1-48d4-9e4c-d580fc2fce24')\"\n",
              "            title=\"Convert this dataframe to an interactive table.\"\n",
              "            style=\"display:none;\">\n",
              "\n",
              "  <svg xmlns=\"http://www.w3.org/2000/svg\" height=\"24px\" viewBox=\"0 -960 960 960\">\n",
              "    <path d=\"M120-120v-720h720v720H120Zm60-500h600v-160H180v160Zm220 220h160v-160H400v160Zm0 220h160v-160H400v160ZM180-400h160v-160H180v160Zm440 0h160v-160H620v160ZM180-180h160v-160H180v160Zm440 0h160v-160H620v160Z\"/>\n",
              "  </svg>\n",
              "    </button>\n",
              "\n",
              "  <style>\n",
              "    .colab-df-container {\n",
              "      display:flex;\n",
              "      gap: 12px;\n",
              "    }\n",
              "\n",
              "    .colab-df-convert {\n",
              "      background-color: #E8F0FE;\n",
              "      border: none;\n",
              "      border-radius: 50%;\n",
              "      cursor: pointer;\n",
              "      display: none;\n",
              "      fill: #1967D2;\n",
              "      height: 32px;\n",
              "      padding: 0 0 0 0;\n",
              "      width: 32px;\n",
              "    }\n",
              "\n",
              "    .colab-df-convert:hover {\n",
              "      background-color: #E2EBFA;\n",
              "      box-shadow: 0px 1px 2px rgba(60, 64, 67, 0.3), 0px 1px 3px 1px rgba(60, 64, 67, 0.15);\n",
              "      fill: #174EA6;\n",
              "    }\n",
              "\n",
              "    .colab-df-buttons div {\n",
              "      margin-bottom: 4px;\n",
              "    }\n",
              "\n",
              "    [theme=dark] .colab-df-convert {\n",
              "      background-color: #3B4455;\n",
              "      fill: #D2E3FC;\n",
              "    }\n",
              "\n",
              "    [theme=dark] .colab-df-convert:hover {\n",
              "      background-color: #434B5C;\n",
              "      box-shadow: 0px 1px 3px 1px rgba(0, 0, 0, 0.15);\n",
              "      filter: drop-shadow(0px 1px 2px rgba(0, 0, 0, 0.3));\n",
              "      fill: #FFFFFF;\n",
              "    }\n",
              "  </style>\n",
              "\n",
              "    <script>\n",
              "      const buttonEl =\n",
              "        document.querySelector('#df-d13d04bf-2aa1-48d4-9e4c-d580fc2fce24 button.colab-df-convert');\n",
              "      buttonEl.style.display =\n",
              "        google.colab.kernel.accessAllowed ? 'block' : 'none';\n",
              "\n",
              "      async function convertToInteractive(key) {\n",
              "        const element = document.querySelector('#df-d13d04bf-2aa1-48d4-9e4c-d580fc2fce24');\n",
              "        const dataTable =\n",
              "          await google.colab.kernel.invokeFunction('convertToInteractive',\n",
              "                                                    [key], {});\n",
              "        if (!dataTable) return;\n",
              "\n",
              "        const docLinkHtml = 'Like what you see? Visit the ' +\n",
              "          '<a target=\"_blank\" href=https://colab.research.google.com/notebooks/data_table.ipynb>data table notebook</a>'\n",
              "          + ' to learn more about interactive tables.';\n",
              "        element.innerHTML = '';\n",
              "        dataTable['output_type'] = 'display_data';\n",
              "        await google.colab.output.renderOutput(dataTable, element);\n",
              "        const docLink = document.createElement('div');\n",
              "        docLink.innerHTML = docLinkHtml;\n",
              "        element.appendChild(docLink);\n",
              "      }\n",
              "    </script>\n",
              "  </div>\n",
              "\n",
              "\n",
              "<div id=\"df-c43c5f63-ebe2-418a-9001-41fe3e4d9f41\">\n",
              "  <button class=\"colab-df-quickchart\" onclick=\"quickchart('df-c43c5f63-ebe2-418a-9001-41fe3e4d9f41')\"\n",
              "            title=\"Suggest charts\"\n",
              "            style=\"display:none;\">\n",
              "\n",
              "<svg xmlns=\"http://www.w3.org/2000/svg\" height=\"24px\"viewBox=\"0 0 24 24\"\n",
              "     width=\"24px\">\n",
              "    <g>\n",
              "        <path d=\"M19 3H5c-1.1 0-2 .9-2 2v14c0 1.1.9 2 2 2h14c1.1 0 2-.9 2-2V5c0-1.1-.9-2-2-2zM9 17H7v-7h2v7zm4 0h-2V7h2v10zm4 0h-2v-4h2v4z\"/>\n",
              "    </g>\n",
              "</svg>\n",
              "  </button>\n",
              "\n",
              "<style>\n",
              "  .colab-df-quickchart {\n",
              "      --bg-color: #E8F0FE;\n",
              "      --fill-color: #1967D2;\n",
              "      --hover-bg-color: #E2EBFA;\n",
              "      --hover-fill-color: #174EA6;\n",
              "      --disabled-fill-color: #AAA;\n",
              "      --disabled-bg-color: #DDD;\n",
              "  }\n",
              "\n",
              "  [theme=dark] .colab-df-quickchart {\n",
              "      --bg-color: #3B4455;\n",
              "      --fill-color: #D2E3FC;\n",
              "      --hover-bg-color: #434B5C;\n",
              "      --hover-fill-color: #FFFFFF;\n",
              "      --disabled-bg-color: #3B4455;\n",
              "      --disabled-fill-color: #666;\n",
              "  }\n",
              "\n",
              "  .colab-df-quickchart {\n",
              "    background-color: var(--bg-color);\n",
              "    border: none;\n",
              "    border-radius: 50%;\n",
              "    cursor: pointer;\n",
              "    display: none;\n",
              "    fill: var(--fill-color);\n",
              "    height: 32px;\n",
              "    padding: 0;\n",
              "    width: 32px;\n",
              "  }\n",
              "\n",
              "  .colab-df-quickchart:hover {\n",
              "    background-color: var(--hover-bg-color);\n",
              "    box-shadow: 0 1px 2px rgba(60, 64, 67, 0.3), 0 1px 3px 1px rgba(60, 64, 67, 0.15);\n",
              "    fill: var(--button-hover-fill-color);\n",
              "  }\n",
              "\n",
              "  .colab-df-quickchart-complete:disabled,\n",
              "  .colab-df-quickchart-complete:disabled:hover {\n",
              "    background-color: var(--disabled-bg-color);\n",
              "    fill: var(--disabled-fill-color);\n",
              "    box-shadow: none;\n",
              "  }\n",
              "\n",
              "  .colab-df-spinner {\n",
              "    border: 2px solid var(--fill-color);\n",
              "    border-color: transparent;\n",
              "    border-bottom-color: var(--fill-color);\n",
              "    animation:\n",
              "      spin 1s steps(1) infinite;\n",
              "  }\n",
              "\n",
              "  @keyframes spin {\n",
              "    0% {\n",
              "      border-color: transparent;\n",
              "      border-bottom-color: var(--fill-color);\n",
              "      border-left-color: var(--fill-color);\n",
              "    }\n",
              "    20% {\n",
              "      border-color: transparent;\n",
              "      border-left-color: var(--fill-color);\n",
              "      border-top-color: var(--fill-color);\n",
              "    }\n",
              "    30% {\n",
              "      border-color: transparent;\n",
              "      border-left-color: var(--fill-color);\n",
              "      border-top-color: var(--fill-color);\n",
              "      border-right-color: var(--fill-color);\n",
              "    }\n",
              "    40% {\n",
              "      border-color: transparent;\n",
              "      border-right-color: var(--fill-color);\n",
              "      border-top-color: var(--fill-color);\n",
              "    }\n",
              "    60% {\n",
              "      border-color: transparent;\n",
              "      border-right-color: var(--fill-color);\n",
              "    }\n",
              "    80% {\n",
              "      border-color: transparent;\n",
              "      border-right-color: var(--fill-color);\n",
              "      border-bottom-color: var(--fill-color);\n",
              "    }\n",
              "    90% {\n",
              "      border-color: transparent;\n",
              "      border-bottom-color: var(--fill-color);\n",
              "    }\n",
              "  }\n",
              "</style>\n",
              "\n",
              "  <script>\n",
              "    async function quickchart(key) {\n",
              "      const quickchartButtonEl =\n",
              "        document.querySelector('#' + key + ' button');\n",
              "      quickchartButtonEl.disabled = true;  // To prevent multiple clicks.\n",
              "      quickchartButtonEl.classList.add('colab-df-spinner');\n",
              "      try {\n",
              "        const charts = await google.colab.kernel.invokeFunction(\n",
              "            'suggestCharts', [key], {});\n",
              "      } catch (error) {\n",
              "        console.error('Error during call to suggestCharts:', error);\n",
              "      }\n",
              "      quickchartButtonEl.classList.remove('colab-df-spinner');\n",
              "      quickchartButtonEl.classList.add('colab-df-quickchart-complete');\n",
              "    }\n",
              "    (() => {\n",
              "      let quickchartButtonEl =\n",
              "        document.querySelector('#df-c43c5f63-ebe2-418a-9001-41fe3e4d9f41 button');\n",
              "      quickchartButtonEl.style.display =\n",
              "        google.colab.kernel.accessAllowed ? 'block' : 'none';\n",
              "    })();\n",
              "  </script>\n",
              "</div>\n",
              "\n",
              "    </div>\n",
              "  </div>\n"
            ],
            "application/vnd.google.colaboratory.intrinsic+json": {
              "type": "dataframe",
              "variable_name": "df"
            }
          },
          "metadata": {},
          "execution_count": 42
        }
      ]
    },
    {
      "cell_type": "code",
      "source": [
        "df.info()"
      ],
      "metadata": {
        "colab": {
          "base_uri": "https://localhost:8080/"
        },
        "id": "ZEDz6TWpxW1m",
        "outputId": "8716cf39-e57a-4926-c638-a466eddb92b2"
      },
      "execution_count": 43,
      "outputs": [
        {
          "output_type": "stream",
          "name": "stdout",
          "text": [
            "<class 'pandas.core.frame.DataFrame'>\n",
            "RangeIndex: 2000 entries, 0 to 1999\n",
            "Data columns (total 55 columns):\n",
            " #   Column                               Non-Null Count  Dtype  \n",
            "---  ------                               --------------  -----  \n",
            " 0   UID                                  2000 non-null   int64  \n",
            " 1   DEALER ID                            2000 non-null   int64  \n",
            " 2   APPLICATION LOGIN DATE               2000 non-null   object \n",
            " 3   HDB BRANCH NAME                      2000 non-null   object \n",
            " 4   HDB BRANCH STATE                     1828 non-null   object \n",
            " 5   FIRST NAME                           2000 non-null   object \n",
            " 6   MIDDLE NAME                          595 non-null    object \n",
            " 7   LAST NAME                            1869 non-null   object \n",
            " 8   mobile                               2000 non-null   int64  \n",
            " 9   AADHAR VERIFIED                      2000 non-null   object \n",
            " 10  Cibil Score                          1158 non-null   object \n",
            " 11  MOBILE VERIFICATION                  2000 non-null   bool   \n",
            " 12  DEALER NAME                          2000 non-null   object \n",
            " 13  TOTAL ASSET COST                     978 non-null    float64\n",
            " 14  ASSET CTG                            978 non-null    object \n",
            " 15  ASSET MODEL NO                       2000 non-null   int64  \n",
            " 16  APPLIED AMOUNT                       2000 non-null   int64  \n",
            " 17  PRIMARY ASSET MAKE                   2000 non-null   object \n",
            " 18  Primary Asset Model No               2000 non-null   object \n",
            " 19  Personal Email Address               2000 non-null   object \n",
            " 20  MARITAL STATUS                       1019 non-null   object \n",
            " 21  GENDER                               2000 non-null   object \n",
            " 22  DOB                                  2000 non-null   int64  \n",
            " 23  AGE                                  2000 non-null   int64  \n",
            " 24  ADDRESS TYPE                         1365 non-null   object \n",
            " 25  EMPLOY CONSTITUTION                  1006 non-null   object \n",
            " 26  EMPLOYER NAME                        1005 non-null   object \n",
            " 27  EMPLOYER TYPE                        1006 non-null   object \n",
            " 28  Pan Name                             1791 non-null   object \n",
            " 29  name                                 2000 non-null   object \n",
            " 30  vpa                                  1446 non-null   object \n",
            " 31  upi_name                             1445 non-null   object \n",
            " 32  Phone Social Premium.a23games        0 non-null      float64\n",
            " 33  Phone Social Premium.amazon          1883 non-null   float64\n",
            " 34  Phone Social Premium.byjus           1977 non-null   float64\n",
            " 35  Phone Social Premium.flipkart        1955 non-null   float64\n",
            " 36  Phone Social Premium.housing         1977 non-null   float64\n",
            " 37  Phone Social Premium.indiamart       1977 non-null   float64\n",
            " 38  Phone Social Premium.instagram       612 non-null    float64\n",
            " 39  Phone Social Premium.isWABusiness    262 non-null    float64\n",
            " 40  Phone Social Premium.jeevansaathi    1962 non-null   float64\n",
            " 41  Phone Social Premium.jiomart         43 non-null     float64\n",
            " 42  Phone Social Premium.microsoft       1971 non-null   float64\n",
            " 43  Phone Social Premium.my11            0 non-null      float64\n",
            " 44  Phone Social Premium.paytm           1975 non-null   float64\n",
            " 45  Phone Social Premium.rummycircle     0 non-null      float64\n",
            " 46  Phone Social Premium.shaadi          1974 non-null   float64\n",
            " 47  Phone Social Premium.skype           1974 non-null   float64\n",
            " 48  Phone Social Premium.toi             1936 non-null   float64\n",
            " 49  Phone Social Premium.whatsapp        262 non-null    float64\n",
            " 50  Phone Social Premium.yatra           0 non-null      float64\n",
            " 51  Phone Social Premium.zoho            1977 non-null   float64\n",
            " 52  phone_digitalage                     2000 non-null   int64  \n",
            " 53  phone_nameMatchScore                 2000 non-null   float64\n",
            " 54  phone_phoneFootprintStrengthOverall  1999 non-null   object \n",
            "dtypes: bool(1), float64(22), int64(8), object(24)\n",
            "memory usage: 845.8+ KB\n"
          ]
        }
      ]
    },
    {
      "cell_type": "code",
      "source": [
        "df = df.rename(columns = lambda x: x.replace(\" \", \"_\"))"
      ],
      "metadata": {
        "id": "fJKtknz1xZGq"
      },
      "execution_count": 44,
      "outputs": []
    },
    {
      "cell_type": "code",
      "source": [
        "df.isnull().sum()"
      ],
      "metadata": {
        "colab": {
          "base_uri": "https://localhost:8080/",
          "height": 1000
        },
        "id": "4inNzQN_xcnu",
        "outputId": "8eabd6b0-b5e4-44f7-d79e-fc184dfc9983"
      },
      "execution_count": 45,
      "outputs": [
        {
          "output_type": "execute_result",
          "data": {
            "text/plain": [
              "UID                                       0\n",
              "DEALER_ID                                 0\n",
              "APPLICATION_LOGIN_DATE                    0\n",
              "HDB_BRANCH_NAME                           0\n",
              "HDB_BRANCH_STATE                        172\n",
              "FIRST_NAME                                0\n",
              "MIDDLE_NAME                            1405\n",
              "LAST_NAME                               131\n",
              "mobile                                    0\n",
              "AADHAR_VERIFIED                           0\n",
              "Cibil_Score                             842\n",
              "MOBILE_VERIFICATION                       0\n",
              "DEALER_NAME                               0\n",
              "TOTAL_ASSET_COST                       1022\n",
              "ASSET_CTG                              1022\n",
              "ASSET_MODEL_NO                            0\n",
              "APPLIED_AMOUNT                            0\n",
              "PRIMARY_ASSET_MAKE                        0\n",
              "Primary_Asset_Model_No                    0\n",
              "Personal_Email_Address                    0\n",
              "MARITAL_STATUS                          981\n",
              "GENDER                                    0\n",
              "DOB                                       0\n",
              "AGE                                       0\n",
              "ADDRESS_TYPE                            635\n",
              "EMPLOY_CONSTITUTION                     994\n",
              "EMPLOYER_NAME                           995\n",
              "EMPLOYER_TYPE                           994\n",
              "Pan_Name                                209\n",
              "name                                      0\n",
              "vpa                                     554\n",
              "upi_name                                555\n",
              "Phone_Social_Premium.a23games          2000\n",
              "Phone_Social_Premium.amazon             117\n",
              "Phone_Social_Premium.byjus               23\n",
              "Phone_Social_Premium.flipkart            45\n",
              "Phone_Social_Premium.housing             23\n",
              "Phone_Social_Premium.indiamart           23\n",
              "Phone_Social_Premium.instagram         1388\n",
              "Phone_Social_Premium.isWABusiness      1738\n",
              "Phone_Social_Premium.jeevansaathi        38\n",
              "Phone_Social_Premium.jiomart           1957\n",
              "Phone_Social_Premium.microsoft           29\n",
              "Phone_Social_Premium.my11              2000\n",
              "Phone_Social_Premium.paytm               25\n",
              "Phone_Social_Premium.rummycircle       2000\n",
              "Phone_Social_Premium.shaadi              26\n",
              "Phone_Social_Premium.skype               26\n",
              "Phone_Social_Premium.toi                 64\n",
              "Phone_Social_Premium.whatsapp          1738\n",
              "Phone_Social_Premium.yatra             2000\n",
              "Phone_Social_Premium.zoho                23\n",
              "phone_digitalage                          0\n",
              "phone_nameMatchScore                      0\n",
              "phone_phoneFootprintStrengthOverall       1\n",
              "dtype: int64"
            ],
            "text/html": [
              "<div>\n",
              "<style scoped>\n",
              "    .dataframe tbody tr th:only-of-type {\n",
              "        vertical-align: middle;\n",
              "    }\n",
              "\n",
              "    .dataframe tbody tr th {\n",
              "        vertical-align: top;\n",
              "    }\n",
              "\n",
              "    .dataframe thead th {\n",
              "        text-align: right;\n",
              "    }\n",
              "</style>\n",
              "<table border=\"1\" class=\"dataframe\">\n",
              "  <thead>\n",
              "    <tr style=\"text-align: right;\">\n",
              "      <th></th>\n",
              "      <th>0</th>\n",
              "    </tr>\n",
              "  </thead>\n",
              "  <tbody>\n",
              "    <tr>\n",
              "      <th>UID</th>\n",
              "      <td>0</td>\n",
              "    </tr>\n",
              "    <tr>\n",
              "      <th>DEALER_ID</th>\n",
              "      <td>0</td>\n",
              "    </tr>\n",
              "    <tr>\n",
              "      <th>APPLICATION_LOGIN_DATE</th>\n",
              "      <td>0</td>\n",
              "    </tr>\n",
              "    <tr>\n",
              "      <th>HDB_BRANCH_NAME</th>\n",
              "      <td>0</td>\n",
              "    </tr>\n",
              "    <tr>\n",
              "      <th>HDB_BRANCH_STATE</th>\n",
              "      <td>172</td>\n",
              "    </tr>\n",
              "    <tr>\n",
              "      <th>FIRST_NAME</th>\n",
              "      <td>0</td>\n",
              "    </tr>\n",
              "    <tr>\n",
              "      <th>MIDDLE_NAME</th>\n",
              "      <td>1405</td>\n",
              "    </tr>\n",
              "    <tr>\n",
              "      <th>LAST_NAME</th>\n",
              "      <td>131</td>\n",
              "    </tr>\n",
              "    <tr>\n",
              "      <th>mobile</th>\n",
              "      <td>0</td>\n",
              "    </tr>\n",
              "    <tr>\n",
              "      <th>AADHAR_VERIFIED</th>\n",
              "      <td>0</td>\n",
              "    </tr>\n",
              "    <tr>\n",
              "      <th>Cibil_Score</th>\n",
              "      <td>842</td>\n",
              "    </tr>\n",
              "    <tr>\n",
              "      <th>MOBILE_VERIFICATION</th>\n",
              "      <td>0</td>\n",
              "    </tr>\n",
              "    <tr>\n",
              "      <th>DEALER_NAME</th>\n",
              "      <td>0</td>\n",
              "    </tr>\n",
              "    <tr>\n",
              "      <th>TOTAL_ASSET_COST</th>\n",
              "      <td>1022</td>\n",
              "    </tr>\n",
              "    <tr>\n",
              "      <th>ASSET_CTG</th>\n",
              "      <td>1022</td>\n",
              "    </tr>\n",
              "    <tr>\n",
              "      <th>ASSET_MODEL_NO</th>\n",
              "      <td>0</td>\n",
              "    </tr>\n",
              "    <tr>\n",
              "      <th>APPLIED_AMOUNT</th>\n",
              "      <td>0</td>\n",
              "    </tr>\n",
              "    <tr>\n",
              "      <th>PRIMARY_ASSET_MAKE</th>\n",
              "      <td>0</td>\n",
              "    </tr>\n",
              "    <tr>\n",
              "      <th>Primary_Asset_Model_No</th>\n",
              "      <td>0</td>\n",
              "    </tr>\n",
              "    <tr>\n",
              "      <th>Personal_Email_Address</th>\n",
              "      <td>0</td>\n",
              "    </tr>\n",
              "    <tr>\n",
              "      <th>MARITAL_STATUS</th>\n",
              "      <td>981</td>\n",
              "    </tr>\n",
              "    <tr>\n",
              "      <th>GENDER</th>\n",
              "      <td>0</td>\n",
              "    </tr>\n",
              "    <tr>\n",
              "      <th>DOB</th>\n",
              "      <td>0</td>\n",
              "    </tr>\n",
              "    <tr>\n",
              "      <th>AGE</th>\n",
              "      <td>0</td>\n",
              "    </tr>\n",
              "    <tr>\n",
              "      <th>ADDRESS_TYPE</th>\n",
              "      <td>635</td>\n",
              "    </tr>\n",
              "    <tr>\n",
              "      <th>EMPLOY_CONSTITUTION</th>\n",
              "      <td>994</td>\n",
              "    </tr>\n",
              "    <tr>\n",
              "      <th>EMPLOYER_NAME</th>\n",
              "      <td>995</td>\n",
              "    </tr>\n",
              "    <tr>\n",
              "      <th>EMPLOYER_TYPE</th>\n",
              "      <td>994</td>\n",
              "    </tr>\n",
              "    <tr>\n",
              "      <th>Pan_Name</th>\n",
              "      <td>209</td>\n",
              "    </tr>\n",
              "    <tr>\n",
              "      <th>name</th>\n",
              "      <td>0</td>\n",
              "    </tr>\n",
              "    <tr>\n",
              "      <th>vpa</th>\n",
              "      <td>554</td>\n",
              "    </tr>\n",
              "    <tr>\n",
              "      <th>upi_name</th>\n",
              "      <td>555</td>\n",
              "    </tr>\n",
              "    <tr>\n",
              "      <th>Phone_Social_Premium.a23games</th>\n",
              "      <td>2000</td>\n",
              "    </tr>\n",
              "    <tr>\n",
              "      <th>Phone_Social_Premium.amazon</th>\n",
              "      <td>117</td>\n",
              "    </tr>\n",
              "    <tr>\n",
              "      <th>Phone_Social_Premium.byjus</th>\n",
              "      <td>23</td>\n",
              "    </tr>\n",
              "    <tr>\n",
              "      <th>Phone_Social_Premium.flipkart</th>\n",
              "      <td>45</td>\n",
              "    </tr>\n",
              "    <tr>\n",
              "      <th>Phone_Social_Premium.housing</th>\n",
              "      <td>23</td>\n",
              "    </tr>\n",
              "    <tr>\n",
              "      <th>Phone_Social_Premium.indiamart</th>\n",
              "      <td>23</td>\n",
              "    </tr>\n",
              "    <tr>\n",
              "      <th>Phone_Social_Premium.instagram</th>\n",
              "      <td>1388</td>\n",
              "    </tr>\n",
              "    <tr>\n",
              "      <th>Phone_Social_Premium.isWABusiness</th>\n",
              "      <td>1738</td>\n",
              "    </tr>\n",
              "    <tr>\n",
              "      <th>Phone_Social_Premium.jeevansaathi</th>\n",
              "      <td>38</td>\n",
              "    </tr>\n",
              "    <tr>\n",
              "      <th>Phone_Social_Premium.jiomart</th>\n",
              "      <td>1957</td>\n",
              "    </tr>\n",
              "    <tr>\n",
              "      <th>Phone_Social_Premium.microsoft</th>\n",
              "      <td>29</td>\n",
              "    </tr>\n",
              "    <tr>\n",
              "      <th>Phone_Social_Premium.my11</th>\n",
              "      <td>2000</td>\n",
              "    </tr>\n",
              "    <tr>\n",
              "      <th>Phone_Social_Premium.paytm</th>\n",
              "      <td>25</td>\n",
              "    </tr>\n",
              "    <tr>\n",
              "      <th>Phone_Social_Premium.rummycircle</th>\n",
              "      <td>2000</td>\n",
              "    </tr>\n",
              "    <tr>\n",
              "      <th>Phone_Social_Premium.shaadi</th>\n",
              "      <td>26</td>\n",
              "    </tr>\n",
              "    <tr>\n",
              "      <th>Phone_Social_Premium.skype</th>\n",
              "      <td>26</td>\n",
              "    </tr>\n",
              "    <tr>\n",
              "      <th>Phone_Social_Premium.toi</th>\n",
              "      <td>64</td>\n",
              "    </tr>\n",
              "    <tr>\n",
              "      <th>Phone_Social_Premium.whatsapp</th>\n",
              "      <td>1738</td>\n",
              "    </tr>\n",
              "    <tr>\n",
              "      <th>Phone_Social_Premium.yatra</th>\n",
              "      <td>2000</td>\n",
              "    </tr>\n",
              "    <tr>\n",
              "      <th>Phone_Social_Premium.zoho</th>\n",
              "      <td>23</td>\n",
              "    </tr>\n",
              "    <tr>\n",
              "      <th>phone_digitalage</th>\n",
              "      <td>0</td>\n",
              "    </tr>\n",
              "    <tr>\n",
              "      <th>phone_nameMatchScore</th>\n",
              "      <td>0</td>\n",
              "    </tr>\n",
              "    <tr>\n",
              "      <th>phone_phoneFootprintStrengthOverall</th>\n",
              "      <td>1</td>\n",
              "    </tr>\n",
              "  </tbody>\n",
              "</table>\n",
              "</div><br><label><b>dtype:</b> int64</label>"
            ]
          },
          "metadata": {},
          "execution_count": 45
        }
      ]
    },
    {
      "cell_type": "code",
      "source": [
        "df = df.drop(['UID', 'FIRST_NAME', 'MIDDLE_NAME', 'LAST_NAME', 'mobile', 'DEALER_NAME', 'DOB', 'EMPLOYER_NAME', 'Pan_Name', 'name', 'APPLICATION_LOGIN_DATE', 'AADHAR_VERIFIED', 'HDB_BRANCH_NAME', 'Primary_Asset_Model_No', 'Personal_Email_Address', 'upi_name', 'EMPLOYER_TYPE', 'MOBILE_VERIFICATION'], axis=1)"
      ],
      "metadata": {
        "id": "bvSGTGx5xfN5"
      },
      "execution_count": 46,
      "outputs": []
    },
    {
      "cell_type": "code",
      "source": [
        "import numpy as np\n",
        "\n",
        "# Select columns starting with 'Phone_Social_Premium'\n",
        "cols_to_concat = [col for col in df.columns if col.startswith('Phone_Social_Premium')]\n",
        "\n",
        "# Convert selected columns to numeric, using NaN for non-numeric values\n",
        "df[cols_to_concat] = df[cols_to_concat].apply(pd.to_numeric, errors='coerce')\n",
        "\n",
        "# Sum the selected columns, ignoring NaN values\n",
        "df['Phone_Social_Premium'] = df[cols_to_concat].sum(axis=1)\n",
        "\n",
        "# Drop the original columns\n",
        "df = df.drop(cols_to_concat, axis=1)"
      ],
      "metadata": {
        "id": "XstLjOHxxh__"
      },
      "execution_count": 47,
      "outputs": []
    },
    {
      "cell_type": "code",
      "source": [
        "df.info()"
      ],
      "metadata": {
        "colab": {
          "base_uri": "https://localhost:8080/"
        },
        "id": "x9L6-985xkeg",
        "outputId": "205516a0-96db-4df7-864e-f3e53c43445b"
      },
      "execution_count": 48,
      "outputs": [
        {
          "output_type": "stream",
          "name": "stdout",
          "text": [
            "<class 'pandas.core.frame.DataFrame'>\n",
            "RangeIndex: 2000 entries, 0 to 1999\n",
            "Data columns (total 18 columns):\n",
            " #   Column                               Non-Null Count  Dtype  \n",
            "---  ------                               --------------  -----  \n",
            " 0   DEALER_ID                            2000 non-null   int64  \n",
            " 1   HDB_BRANCH_STATE                     1828 non-null   object \n",
            " 2   Cibil_Score                          1158 non-null   object \n",
            " 3   TOTAL_ASSET_COST                     978 non-null    float64\n",
            " 4   ASSET_CTG                            978 non-null    object \n",
            " 5   ASSET_MODEL_NO                       2000 non-null   int64  \n",
            " 6   APPLIED_AMOUNT                       2000 non-null   int64  \n",
            " 7   PRIMARY_ASSET_MAKE                   2000 non-null   object \n",
            " 8   MARITAL_STATUS                       1019 non-null   object \n",
            " 9   GENDER                               2000 non-null   object \n",
            " 10  AGE                                  2000 non-null   int64  \n",
            " 11  ADDRESS_TYPE                         1365 non-null   object \n",
            " 12  EMPLOY_CONSTITUTION                  1006 non-null   object \n",
            " 13  vpa                                  1446 non-null   object \n",
            " 14  phone_digitalage                     2000 non-null   int64  \n",
            " 15  phone_nameMatchScore                 2000 non-null   float64\n",
            " 16  phone_phoneFootprintStrengthOverall  1999 non-null   object \n",
            " 17  Phone_Social_Premium                 2000 non-null   float64\n",
            "dtypes: float64(3), int64(5), object(10)\n",
            "memory usage: 281.4+ KB\n"
          ]
        }
      ]
    },
    {
      "cell_type": "code",
      "source": [
        "import pandas as pd\n",
        "def convert_to_numeric(col):\n",
        "  # Convert to numeric, handling non-convertible values\n",
        "  df[f'{col}'] = pd.to_numeric(df[f'{col}'], errors='coerce')\n",
        "\n",
        "  # Round the values before converting to integers to avoid data loss\n",
        "  df[f'{col}'] = df[f'{col}'].round().astype('Int64') # Round values to nearest integer"
      ],
      "metadata": {
        "id": "a6RdcGEAyV6X"
      },
      "execution_count": 49,
      "outputs": []
    },
    {
      "cell_type": "code",
      "source": [
        "convert_to_numeric('Cibil_Score')\n",
        "convert_to_numeric('TOTAL_ASSET_COST')\n",
        "# convert_to_numeric('phone_phoneFootprintStrengthOverall')\n",
        "convert_to_numeric('phone_digitalage')\n",
        "convert_to_numeric('phone_nameMatchScore')\n",
        "convert_to_numeric('phone_nameMatchScore')"
      ],
      "metadata": {
        "id": "6XRYPcLUxvTv"
      },
      "execution_count": 50,
      "outputs": []
    },
    {
      "cell_type": "code",
      "source": [
        "df.isnull().sum()"
      ],
      "metadata": {
        "colab": {
          "base_uri": "https://localhost:8080/",
          "height": 648
        },
        "id": "QhJkzMOdx5_P",
        "outputId": "789581e1-7015-47d3-af48-de37cc3c79d5"
      },
      "execution_count": 51,
      "outputs": [
        {
          "output_type": "execute_result",
          "data": {
            "text/plain": [
              "DEALER_ID                                 0\n",
              "HDB_BRANCH_STATE                        172\n",
              "Cibil_Score                             846\n",
              "TOTAL_ASSET_COST                       1022\n",
              "ASSET_CTG                              1022\n",
              "ASSET_MODEL_NO                            0\n",
              "APPLIED_AMOUNT                            0\n",
              "PRIMARY_ASSET_MAKE                        0\n",
              "MARITAL_STATUS                          981\n",
              "GENDER                                    0\n",
              "AGE                                       0\n",
              "ADDRESS_TYPE                            635\n",
              "EMPLOY_CONSTITUTION                     994\n",
              "vpa                                     554\n",
              "phone_digitalage                          0\n",
              "phone_nameMatchScore                      0\n",
              "phone_phoneFootprintStrengthOverall       1\n",
              "Phone_Social_Premium                      0\n",
              "dtype: int64"
            ],
            "text/html": [
              "<div>\n",
              "<style scoped>\n",
              "    .dataframe tbody tr th:only-of-type {\n",
              "        vertical-align: middle;\n",
              "    }\n",
              "\n",
              "    .dataframe tbody tr th {\n",
              "        vertical-align: top;\n",
              "    }\n",
              "\n",
              "    .dataframe thead th {\n",
              "        text-align: right;\n",
              "    }\n",
              "</style>\n",
              "<table border=\"1\" class=\"dataframe\">\n",
              "  <thead>\n",
              "    <tr style=\"text-align: right;\">\n",
              "      <th></th>\n",
              "      <th>0</th>\n",
              "    </tr>\n",
              "  </thead>\n",
              "  <tbody>\n",
              "    <tr>\n",
              "      <th>DEALER_ID</th>\n",
              "      <td>0</td>\n",
              "    </tr>\n",
              "    <tr>\n",
              "      <th>HDB_BRANCH_STATE</th>\n",
              "      <td>172</td>\n",
              "    </tr>\n",
              "    <tr>\n",
              "      <th>Cibil_Score</th>\n",
              "      <td>846</td>\n",
              "    </tr>\n",
              "    <tr>\n",
              "      <th>TOTAL_ASSET_COST</th>\n",
              "      <td>1022</td>\n",
              "    </tr>\n",
              "    <tr>\n",
              "      <th>ASSET_CTG</th>\n",
              "      <td>1022</td>\n",
              "    </tr>\n",
              "    <tr>\n",
              "      <th>ASSET_MODEL_NO</th>\n",
              "      <td>0</td>\n",
              "    </tr>\n",
              "    <tr>\n",
              "      <th>APPLIED_AMOUNT</th>\n",
              "      <td>0</td>\n",
              "    </tr>\n",
              "    <tr>\n",
              "      <th>PRIMARY_ASSET_MAKE</th>\n",
              "      <td>0</td>\n",
              "    </tr>\n",
              "    <tr>\n",
              "      <th>MARITAL_STATUS</th>\n",
              "      <td>981</td>\n",
              "    </tr>\n",
              "    <tr>\n",
              "      <th>GENDER</th>\n",
              "      <td>0</td>\n",
              "    </tr>\n",
              "    <tr>\n",
              "      <th>AGE</th>\n",
              "      <td>0</td>\n",
              "    </tr>\n",
              "    <tr>\n",
              "      <th>ADDRESS_TYPE</th>\n",
              "      <td>635</td>\n",
              "    </tr>\n",
              "    <tr>\n",
              "      <th>EMPLOY_CONSTITUTION</th>\n",
              "      <td>994</td>\n",
              "    </tr>\n",
              "    <tr>\n",
              "      <th>vpa</th>\n",
              "      <td>554</td>\n",
              "    </tr>\n",
              "    <tr>\n",
              "      <th>phone_digitalage</th>\n",
              "      <td>0</td>\n",
              "    </tr>\n",
              "    <tr>\n",
              "      <th>phone_nameMatchScore</th>\n",
              "      <td>0</td>\n",
              "    </tr>\n",
              "    <tr>\n",
              "      <th>phone_phoneFootprintStrengthOverall</th>\n",
              "      <td>1</td>\n",
              "    </tr>\n",
              "    <tr>\n",
              "      <th>Phone_Social_Premium</th>\n",
              "      <td>0</td>\n",
              "    </tr>\n",
              "  </tbody>\n",
              "</table>\n",
              "</div><br><label><b>dtype:</b> int64</label>"
            ]
          },
          "metadata": {},
          "execution_count": 51
        }
      ]
    },
    {
      "cell_type": "code",
      "source": [
        "df.info()"
      ],
      "metadata": {
        "colab": {
          "base_uri": "https://localhost:8080/"
        },
        "id": "W_dvfj9n1gKx",
        "outputId": "44a2e9d8-985a-4df4-9d79-a45c77db696a"
      },
      "execution_count": 52,
      "outputs": [
        {
          "output_type": "stream",
          "name": "stdout",
          "text": [
            "<class 'pandas.core.frame.DataFrame'>\n",
            "RangeIndex: 2000 entries, 0 to 1999\n",
            "Data columns (total 18 columns):\n",
            " #   Column                               Non-Null Count  Dtype  \n",
            "---  ------                               --------------  -----  \n",
            " 0   DEALER_ID                            2000 non-null   int64  \n",
            " 1   HDB_BRANCH_STATE                     1828 non-null   object \n",
            " 2   Cibil_Score                          1154 non-null   Int64  \n",
            " 3   TOTAL_ASSET_COST                     978 non-null    Int64  \n",
            " 4   ASSET_CTG                            978 non-null    object \n",
            " 5   ASSET_MODEL_NO                       2000 non-null   int64  \n",
            " 6   APPLIED_AMOUNT                       2000 non-null   int64  \n",
            " 7   PRIMARY_ASSET_MAKE                   2000 non-null   object \n",
            " 8   MARITAL_STATUS                       1019 non-null   object \n",
            " 9   GENDER                               2000 non-null   object \n",
            " 10  AGE                                  2000 non-null   int64  \n",
            " 11  ADDRESS_TYPE                         1365 non-null   object \n",
            " 12  EMPLOY_CONSTITUTION                  1006 non-null   object \n",
            " 13  vpa                                  1446 non-null   object \n",
            " 14  phone_digitalage                     2000 non-null   Int64  \n",
            " 15  phone_nameMatchScore                 2000 non-null   Int64  \n",
            " 16  phone_phoneFootprintStrengthOverall  1999 non-null   object \n",
            " 17  Phone_Social_Premium                 2000 non-null   float64\n",
            "dtypes: Int64(4), float64(1), int64(4), object(9)\n",
            "memory usage: 289.2+ KB\n"
          ]
        }
      ]
    },
    {
      "cell_type": "code",
      "source": [
        "# prompt: one hot encode those columns having object data type\n",
        "\n",
        "import pandas as pd\n",
        "# Identify object type columns\n",
        "object_cols = df.select_dtypes(include=['object']).columns\n",
        "\n",
        "# One-hot encode object type columns\n",
        "df = pd.get_dummies(df, columns=object_cols)\n"
      ],
      "metadata": {
        "id": "in407r2v2kBM"
      },
      "execution_count": 53,
      "outputs": []
    },
    {
      "cell_type": "code",
      "source": [
        "# prompt: count the nulls in df\n",
        "\n",
        "df.isnull().sum()\n"
      ],
      "metadata": {
        "colab": {
          "base_uri": "https://localhost:8080/",
          "height": 458
        },
        "id": "N0HDt9hT3DKK",
        "outputId": "820bff19-849c-4c79-a286-d163bdf120d7"
      },
      "execution_count": 54,
      "outputs": [
        {
          "output_type": "execute_result",
          "data": {
            "text/plain": [
              "DEALER_ID                                           0\n",
              "Cibil_Score                                       846\n",
              "TOTAL_ASSET_COST                                 1022\n",
              "ASSET_MODEL_NO                                      0\n",
              "APPLIED_AMOUNT                                      0\n",
              "                                                 ... \n",
              "phone_phoneFootprintStrengthOverall_High            0\n",
              "phone_phoneFootprintStrengthOverall_Low             0\n",
              "phone_phoneFootprintStrengthOverall_Medium          0\n",
              "phone_phoneFootprintStrengthOverall_Very High       0\n",
              "phone_phoneFootprintStrengthOverall_Very Low        0\n",
              "Length: 107, dtype: int64"
            ],
            "text/html": [
              "<div>\n",
              "<style scoped>\n",
              "    .dataframe tbody tr th:only-of-type {\n",
              "        vertical-align: middle;\n",
              "    }\n",
              "\n",
              "    .dataframe tbody tr th {\n",
              "        vertical-align: top;\n",
              "    }\n",
              "\n",
              "    .dataframe thead th {\n",
              "        text-align: right;\n",
              "    }\n",
              "</style>\n",
              "<table border=\"1\" class=\"dataframe\">\n",
              "  <thead>\n",
              "    <tr style=\"text-align: right;\">\n",
              "      <th></th>\n",
              "      <th>0</th>\n",
              "    </tr>\n",
              "  </thead>\n",
              "  <tbody>\n",
              "    <tr>\n",
              "      <th>DEALER_ID</th>\n",
              "      <td>0</td>\n",
              "    </tr>\n",
              "    <tr>\n",
              "      <th>Cibil_Score</th>\n",
              "      <td>846</td>\n",
              "    </tr>\n",
              "    <tr>\n",
              "      <th>TOTAL_ASSET_COST</th>\n",
              "      <td>1022</td>\n",
              "    </tr>\n",
              "    <tr>\n",
              "      <th>ASSET_MODEL_NO</th>\n",
              "      <td>0</td>\n",
              "    </tr>\n",
              "    <tr>\n",
              "      <th>APPLIED_AMOUNT</th>\n",
              "      <td>0</td>\n",
              "    </tr>\n",
              "    <tr>\n",
              "      <th>...</th>\n",
              "      <td>...</td>\n",
              "    </tr>\n",
              "    <tr>\n",
              "      <th>phone_phoneFootprintStrengthOverall_High</th>\n",
              "      <td>0</td>\n",
              "    </tr>\n",
              "    <tr>\n",
              "      <th>phone_phoneFootprintStrengthOverall_Low</th>\n",
              "      <td>0</td>\n",
              "    </tr>\n",
              "    <tr>\n",
              "      <th>phone_phoneFootprintStrengthOverall_Medium</th>\n",
              "      <td>0</td>\n",
              "    </tr>\n",
              "    <tr>\n",
              "      <th>phone_phoneFootprintStrengthOverall_Very High</th>\n",
              "      <td>0</td>\n",
              "    </tr>\n",
              "    <tr>\n",
              "      <th>phone_phoneFootprintStrengthOverall_Very Low</th>\n",
              "      <td>0</td>\n",
              "    </tr>\n",
              "  </tbody>\n",
              "</table>\n",
              "<p>107 rows × 1 columns</p>\n",
              "</div><br><label><b>dtype:</b> int64</label>"
            ]
          },
          "metadata": {},
          "execution_count": 54
        }
      ]
    },
    {
      "cell_type": "code",
      "source": [
        "# prompt: keep the categoriacal columns in a sperate df\n",
        "\n",
        "categorical_cols = df.select_dtypes(include=['object']).columns\n",
        "df_categorical = df[categorical_cols]\n"
      ],
      "metadata": {
        "id": "noCAfp4I0A65"
      },
      "execution_count": 55,
      "outputs": []
    },
    {
      "cell_type": "code",
      "source": [
        "# prompt: impute teh remaining values using KNN of other numeric variable\n",
        "\n",
        "import numpy as np\n",
        "from sklearn.impute import KNNImputer\n",
        "\n",
        "# Select only numeric columns for imputation\n",
        "numeric_cols = df.select_dtypes(include=np.number).columns\n",
        "\n",
        "# Create KNN imputer\n",
        "imputer = KNNImputer(n_neighbors=5)  # You can adjust the number of neighbors\n",
        "\n",
        "# Fit and transform the imputer on numeric columns\n",
        "df[numeric_cols] = imputer.fit_transform(df[numeric_cols])\n"
      ],
      "metadata": {
        "id": "Zm1EHOrry5W6"
      },
      "execution_count": 56,
      "outputs": []
    },
    {
      "cell_type": "code",
      "source": [
        "df.info()"
      ],
      "metadata": {
        "colab": {
          "base_uri": "https://localhost:8080/"
        },
        "id": "wtWK0YSWz1t8",
        "outputId": "836ea066-378d-4fe6-f3ae-78faa5086199"
      },
      "execution_count": 57,
      "outputs": [
        {
          "output_type": "stream",
          "name": "stdout",
          "text": [
            "<class 'pandas.core.frame.DataFrame'>\n",
            "RangeIndex: 2000 entries, 0 to 1999\n",
            "Columns: 107 entries, DEALER_ID to phone_phoneFootprintStrengthOverall_Very Low\n",
            "dtypes: bool(98), float64(9)\n",
            "memory usage: 332.2 KB\n"
          ]
        }
      ]
    },
    {
      "cell_type": "code",
      "source": [
        "import pandas as pd\n",
        "\n",
        "# Assuming df is your original DataFrame\n",
        "\n",
        "# List of columns you want to keep\n",
        "columns_to_keep = [\n",
        "    'Cibil_Score',\n",
        "    'ASSET_CTG_MCECA',\n",
        "    'ASSET_CTG_MCECB',\n",
        "    'ASSET_CTG_MCEXA',\n",
        "    'ASSET_CTG_MCPRA',\n",
        "    'ASSET_CTG_MOECA',\n",
        "    'ASSET_CTG_SCECA',\n",
        "    'ASSET_CTG_SCEXA',\n",
        "    'PRIMARY_ASSET_MAKE_AMO ELECTRIC',\n",
        "    'PRIMARY_ASSET_MAKE_BAJAJ AUTO INDIA',\n",
        "    'MARITAL_STATUS_Married',\n",
        "    'MARITAL_STATUS_Single',\n",
        "    'ADDRESS_TYPE_Parental',\n",
        "    'ADDRESS_TYPE_RESIDENCE',\n",
        "    'ADDRESS_TYPE_Rented',\n",
        "    'ADDRESS_TYPE_Self/Spouse Owned',\n",
        "    'EMPLOY_CONSTITUTION_SALARIED',\n",
        "    'EMPLOY_CONSTITUTION_SELF-EMPLOYED'\n",
        "]\n",
        "\n",
        "# Keep only the specified columns\n",
        "df = df[columns_to_keep]\n",
        "\n",
        "# Display the filtered DataFrame"
      ],
      "metadata": {
        "id": "viv-R98KPEM5"
      },
      "execution_count": 58,
      "outputs": []
    },
    {
      "cell_type": "code",
      "source": [
        "df.info()"
      ],
      "metadata": {
        "colab": {
          "base_uri": "https://localhost:8080/"
        },
        "outputId": "19ded1e1-fbab-4476-b105-aea68b4a4879",
        "id": "Eq1fzxV_PM5N"
      },
      "execution_count": 59,
      "outputs": [
        {
          "output_type": "stream",
          "name": "stdout",
          "text": [
            "<class 'pandas.core.frame.DataFrame'>\n",
            "RangeIndex: 2000 entries, 0 to 1999\n",
            "Data columns (total 18 columns):\n",
            " #   Column                               Non-Null Count  Dtype  \n",
            "---  ------                               --------------  -----  \n",
            " 0   Cibil_Score                          2000 non-null   float64\n",
            " 1   ASSET_CTG_MCECA                      2000 non-null   bool   \n",
            " 2   ASSET_CTG_MCECB                      2000 non-null   bool   \n",
            " 3   ASSET_CTG_MCEXA                      2000 non-null   bool   \n",
            " 4   ASSET_CTG_MCPRA                      2000 non-null   bool   \n",
            " 5   ASSET_CTG_MOECA                      2000 non-null   bool   \n",
            " 6   ASSET_CTG_SCECA                      2000 non-null   bool   \n",
            " 7   ASSET_CTG_SCEXA                      2000 non-null   bool   \n",
            " 8   PRIMARY_ASSET_MAKE_AMO ELECTRIC      2000 non-null   bool   \n",
            " 9   PRIMARY_ASSET_MAKE_BAJAJ AUTO INDIA  2000 non-null   bool   \n",
            " 10  MARITAL_STATUS_Married               2000 non-null   bool   \n",
            " 11  MARITAL_STATUS_Single                2000 non-null   bool   \n",
            " 12  ADDRESS_TYPE_Parental                2000 non-null   bool   \n",
            " 13  ADDRESS_TYPE_RESIDENCE               2000 non-null   bool   \n",
            " 14  ADDRESS_TYPE_Rented                  2000 non-null   bool   \n",
            " 15  ADDRESS_TYPE_Self/Spouse Owned       2000 non-null   bool   \n",
            " 16  EMPLOY_CONSTITUTION_SALARIED         2000 non-null   bool   \n",
            " 17  EMPLOY_CONSTITUTION_SELF-EMPLOYED    2000 non-null   bool   \n",
            "dtypes: bool(17), float64(1)\n",
            "memory usage: 49.0 KB\n"
          ]
        }
      ]
    },
    {
      "cell_type": "code",
      "source": [
        "from sklearn.preprocessing import StandardScaler\n",
        "from sklearn.decomposition import PCA\n",
        "from sklearn.model_selection import train_test_split\n",
        "from sklearn.linear_model import LogisticRegression\n",
        "from sklearn.ensemble import RandomForestClassifier"
      ],
      "metadata": {
        "id": "2t0zMuc5bh40"
      },
      "execution_count": 60,
      "outputs": []
    },
    {
      "cell_type": "code",
      "source": [
        "\n",
        "# # Drop the target column from the feature set\n",
        "# df_features = df"
      ],
      "metadata": {
        "id": "9LV4-1N6bxdN"
      },
      "execution_count": 25,
      "outputs": []
    },
    {
      "cell_type": "code",
      "source": [
        "# # Standardize the continuous features\n",
        "# scaler = StandardScaler()\n",
        "# df_features[['Cibil_Score']] = scaler.fit_transform(df_features[['Cibil_Score']])"
      ],
      "metadata": {
        "id": "_4mKlVEobsYx"
      },
      "execution_count": 26,
      "outputs": []
    },
    {
      "cell_type": "code",
      "source": [
        "# # Convert boolean columns to integers\n",
        "# bool_columns = df_features.columns.difference(['Cibil_Score'])\n",
        "# df_features[bool_columns] = df_features[bool_columns].astype(int)"
      ],
      "metadata": {
        "id": "-CZ2t1H9b8FE"
      },
      "execution_count": 27,
      "outputs": []
    },
    {
      "cell_type": "code",
      "source": [
        "# # Apply PCA\n",
        "# pca = PCA(n_components=0.95)  # Retain 95% of the variance\n",
        "# df_pca = pd.DataFrame(pca.fit_transform(df_features))"
      ],
      "metadata": {
        "id": "Per-Qt5wcIQJ"
      },
      "execution_count": 37,
      "outputs": []
    },
    {
      "cell_type": "code",
      "source": [
        "# import joblib\n",
        "\n",
        "# # Load the saved model\n",
        "# loaded_model = joblib.load('/content/best_gradient_boosting_model.pkl')"
      ],
      "metadata": {
        "id": "2R_3WVN3QGTO"
      },
      "execution_count": 38,
      "outputs": []
    },
    {
      "cell_type": "code",
      "source": [
        "# df_pca.info()"
      ],
      "metadata": {
        "colab": {
          "base_uri": "https://localhost:8080/"
        },
        "id": "V_9Tam8KcqFO",
        "outputId": "a05cc2c0-d8b4-4733-ae6b-ef9fc5c53fef"
      },
      "execution_count": 39,
      "outputs": [
        {
          "output_type": "stream",
          "name": "stdout",
          "text": [
            "<class 'pandas.core.frame.DataFrame'>\n",
            "RangeIndex: 2000 entries, 0 to 1999\n",
            "Data columns (total 9 columns):\n",
            " #   Column  Non-Null Count  Dtype  \n",
            "---  ------  --------------  -----  \n",
            " 0   0       2000 non-null   float64\n",
            " 1   1       2000 non-null   float64\n",
            " 2   2       2000 non-null   float64\n",
            " 3   3       2000 non-null   float64\n",
            " 4   4       2000 non-null   float64\n",
            " 5   5       2000 non-null   float64\n",
            " 6   6       2000 non-null   float64\n",
            " 7   7       2000 non-null   float64\n",
            " 8   8       2000 non-null   float64\n",
            "dtypes: float64(9)\n",
            "memory usage: 140.8 KB\n"
          ]
        }
      ]
    },
    {
      "cell_type": "code",
      "source": [
        "# Make predictions\n",
        "predictions = loaded_model.predict(df)\n",
        "\n",
        "# If you need probabilities instead of class predictions"
      ],
      "metadata": {
        "id": "PyWpvBaSQLeZ",
        "colab": {
          "base_uri": "https://localhost:8080/",
          "height": 393
        },
        "outputId": "a1b03154-ea0f-4b79-b66d-a9c3d78e055f"
      },
      "execution_count": 61,
      "outputs": [
        {
          "output_type": "stream",
          "name": "stderr",
          "text": [
            "/usr/local/lib/python3.10/dist-packages/sklearn/base.py:458: UserWarning: X has feature names, but GradientBoostingClassifier was fitted without feature names\n",
            "  warnings.warn(\n"
          ]
        },
        {
          "output_type": "error",
          "ename": "ValueError",
          "evalue": "X has 18 features, but GradientBoostingClassifier is expecting 10 features as input.",
          "traceback": [
            "\u001b[0;31m---------------------------------------------------------------------------\u001b[0m",
            "\u001b[0;31mValueError\u001b[0m                                Traceback (most recent call last)",
            "\u001b[0;32m<ipython-input-61-d95b1e0c683b>\u001b[0m in \u001b[0;36m<cell line: 2>\u001b[0;34m()\u001b[0m\n\u001b[1;32m      1\u001b[0m \u001b[0;31m# Make predictions\u001b[0m\u001b[0;34m\u001b[0m\u001b[0;34m\u001b[0m\u001b[0m\n\u001b[0;32m----> 2\u001b[0;31m \u001b[0mpredictions\u001b[0m \u001b[0;34m=\u001b[0m \u001b[0mloaded_model\u001b[0m\u001b[0;34m.\u001b[0m\u001b[0mpredict\u001b[0m\u001b[0;34m(\u001b[0m\u001b[0mdf\u001b[0m\u001b[0;34m)\u001b[0m\u001b[0;34m\u001b[0m\u001b[0;34m\u001b[0m\u001b[0m\n\u001b[0m\u001b[1;32m      3\u001b[0m \u001b[0;34m\u001b[0m\u001b[0m\n\u001b[1;32m      4\u001b[0m \u001b[0;31m# If you need probabilities instead of class predictions\u001b[0m\u001b[0;34m\u001b[0m\u001b[0;34m\u001b[0m\u001b[0m\n",
            "\u001b[0;32m/usr/local/lib/python3.10/dist-packages/sklearn/ensemble/_gb.py\u001b[0m in \u001b[0;36mpredict\u001b[0;34m(self, X)\u001b[0m\n\u001b[1;32m   1291\u001b[0m             \u001b[0mThe\u001b[0m \u001b[0mpredicted\u001b[0m \u001b[0mvalues\u001b[0m\u001b[0;34m.\u001b[0m\u001b[0;34m\u001b[0m\u001b[0;34m\u001b[0m\u001b[0m\n\u001b[1;32m   1292\u001b[0m         \"\"\"\n\u001b[0;32m-> 1293\u001b[0;31m         \u001b[0mraw_predictions\u001b[0m \u001b[0;34m=\u001b[0m \u001b[0mself\u001b[0m\u001b[0;34m.\u001b[0m\u001b[0mdecision_function\u001b[0m\u001b[0;34m(\u001b[0m\u001b[0mX\u001b[0m\u001b[0;34m)\u001b[0m\u001b[0;34m\u001b[0m\u001b[0;34m\u001b[0m\u001b[0m\n\u001b[0m\u001b[1;32m   1294\u001b[0m         \u001b[0mencoded_labels\u001b[0m \u001b[0;34m=\u001b[0m \u001b[0mself\u001b[0m\u001b[0;34m.\u001b[0m\u001b[0m_loss\u001b[0m\u001b[0;34m.\u001b[0m\u001b[0m_raw_prediction_to_decision\u001b[0m\u001b[0;34m(\u001b[0m\u001b[0mraw_predictions\u001b[0m\u001b[0;34m)\u001b[0m\u001b[0;34m\u001b[0m\u001b[0;34m\u001b[0m\u001b[0m\n\u001b[1;32m   1295\u001b[0m         \u001b[0;32mreturn\u001b[0m \u001b[0mself\u001b[0m\u001b[0;34m.\u001b[0m\u001b[0mclasses_\u001b[0m\u001b[0;34m.\u001b[0m\u001b[0mtake\u001b[0m\u001b[0;34m(\u001b[0m\u001b[0mencoded_labels\u001b[0m\u001b[0;34m,\u001b[0m \u001b[0maxis\u001b[0m\u001b[0;34m=\u001b[0m\u001b[0;36m0\u001b[0m\u001b[0;34m)\u001b[0m\u001b[0;34m\u001b[0m\u001b[0;34m\u001b[0m\u001b[0m\n",
            "\u001b[0;32m/usr/local/lib/python3.10/dist-packages/sklearn/ensemble/_gb.py\u001b[0m in \u001b[0;36mdecision_function\u001b[0;34m(self, X)\u001b[0m\n\u001b[1;32m   1244\u001b[0m             \u001b[0marray\u001b[0m \u001b[0mof\u001b[0m \u001b[0mshape\u001b[0m \u001b[0;34m(\u001b[0m\u001b[0mn_samples\u001b[0m\u001b[0;34m,\u001b[0m\u001b[0;34m)\u001b[0m\u001b[0;34m.\u001b[0m\u001b[0;34m\u001b[0m\u001b[0;34m\u001b[0m\u001b[0m\n\u001b[1;32m   1245\u001b[0m         \"\"\"\n\u001b[0;32m-> 1246\u001b[0;31m         X = self._validate_data(\n\u001b[0m\u001b[1;32m   1247\u001b[0m             \u001b[0mX\u001b[0m\u001b[0;34m,\u001b[0m \u001b[0mdtype\u001b[0m\u001b[0;34m=\u001b[0m\u001b[0mDTYPE\u001b[0m\u001b[0;34m,\u001b[0m \u001b[0morder\u001b[0m\u001b[0;34m=\u001b[0m\u001b[0;34m\"C\"\u001b[0m\u001b[0;34m,\u001b[0m \u001b[0maccept_sparse\u001b[0m\u001b[0;34m=\u001b[0m\u001b[0;34m\"csr\"\u001b[0m\u001b[0;34m,\u001b[0m \u001b[0mreset\u001b[0m\u001b[0;34m=\u001b[0m\u001b[0;32mFalse\u001b[0m\u001b[0;34m\u001b[0m\u001b[0;34m\u001b[0m\u001b[0m\n\u001b[1;32m   1248\u001b[0m         )\n",
            "\u001b[0;32m/usr/local/lib/python3.10/dist-packages/sklearn/base.py\u001b[0m in \u001b[0;36m_validate_data\u001b[0;34m(self, X, y, reset, validate_separately, cast_to_ndarray, **check_params)\u001b[0m\n\u001b[1;32m    624\u001b[0m \u001b[0;34m\u001b[0m\u001b[0m\n\u001b[1;32m    625\u001b[0m         \u001b[0;32mif\u001b[0m \u001b[0;32mnot\u001b[0m \u001b[0mno_val_X\u001b[0m \u001b[0;32mand\u001b[0m \u001b[0mcheck_params\u001b[0m\u001b[0;34m.\u001b[0m\u001b[0mget\u001b[0m\u001b[0;34m(\u001b[0m\u001b[0;34m\"ensure_2d\"\u001b[0m\u001b[0;34m,\u001b[0m \u001b[0;32mTrue\u001b[0m\u001b[0;34m)\u001b[0m\u001b[0;34m:\u001b[0m\u001b[0;34m\u001b[0m\u001b[0;34m\u001b[0m\u001b[0m\n\u001b[0;32m--> 626\u001b[0;31m             \u001b[0mself\u001b[0m\u001b[0;34m.\u001b[0m\u001b[0m_check_n_features\u001b[0m\u001b[0;34m(\u001b[0m\u001b[0mX\u001b[0m\u001b[0;34m,\u001b[0m \u001b[0mreset\u001b[0m\u001b[0;34m=\u001b[0m\u001b[0mreset\u001b[0m\u001b[0;34m)\u001b[0m\u001b[0;34m\u001b[0m\u001b[0;34m\u001b[0m\u001b[0m\n\u001b[0m\u001b[1;32m    627\u001b[0m \u001b[0;34m\u001b[0m\u001b[0m\n\u001b[1;32m    628\u001b[0m         \u001b[0;32mreturn\u001b[0m \u001b[0mout\u001b[0m\u001b[0;34m\u001b[0m\u001b[0;34m\u001b[0m\u001b[0m\n",
            "\u001b[0;32m/usr/local/lib/python3.10/dist-packages/sklearn/base.py\u001b[0m in \u001b[0;36m_check_n_features\u001b[0;34m(self, X, reset)\u001b[0m\n\u001b[1;32m    413\u001b[0m \u001b[0;34m\u001b[0m\u001b[0m\n\u001b[1;32m    414\u001b[0m         \u001b[0;32mif\u001b[0m \u001b[0mn_features\u001b[0m \u001b[0;34m!=\u001b[0m \u001b[0mself\u001b[0m\u001b[0;34m.\u001b[0m\u001b[0mn_features_in_\u001b[0m\u001b[0;34m:\u001b[0m\u001b[0;34m\u001b[0m\u001b[0;34m\u001b[0m\u001b[0m\n\u001b[0;32m--> 415\u001b[0;31m             raise ValueError(\n\u001b[0m\u001b[1;32m    416\u001b[0m                 \u001b[0;34mf\"X has {n_features} features, but {self.__class__.__name__} \"\u001b[0m\u001b[0;34m\u001b[0m\u001b[0;34m\u001b[0m\u001b[0m\n\u001b[1;32m    417\u001b[0m                 \u001b[0;34mf\"is expecting {self.n_features_in_} features as input.\"\u001b[0m\u001b[0;34m\u001b[0m\u001b[0;34m\u001b[0m\u001b[0m\n",
            "\u001b[0;31mValueError\u001b[0m: X has 18 features, but GradientBoostingClassifier is expecting 10 features as input."
          ]
        }
      ]
    },
    {
      "cell_type": "code",
      "source": [
        "predictions_df = pd.DataFrame(predictions, columns=['Prediction'])"
      ],
      "metadata": {
        "id": "pgSFwdr_QL54"
      },
      "execution_count": null,
      "outputs": []
    },
    {
      "cell_type": "code",
      "source": [
        "\n",
        "predictions_df['Prediction'] = predictions_df['Prediction'].map({0: 'DECLINED', 1: 'APPROVED'})\n"
      ],
      "metadata": {
        "id": "AbnGDHLzQQix"
      },
      "execution_count": null,
      "outputs": []
    },
    {
      "cell_type": "code",
      "source": [
        "predictions_df.to_csv('test_pred.csv', index=False)"
      ],
      "metadata": {
        "id": "fwtnfyNeQSxe"
      },
      "execution_count": null,
      "outputs": []
    },
    {
      "cell_type": "code",
      "source": [
        "result_df = pd.concat([df_UID, predictions_df], axis=1)"
      ],
      "metadata": {
        "id": "m9xt3WofQU6_"
      },
      "execution_count": null,
      "outputs": []
    },
    {
      "cell_type": "code",
      "source": [
        "result_df.to_csv('test_pred_with_uid.csv', index=False)"
      ],
      "metadata": {
        "id": "nhwCm_PKRAia"
      },
      "execution_count": null,
      "outputs": []
    },
    {
      "cell_type": "code",
      "source": [
        "from google.colab import files\n",
        "files.download('test_pred_with_uid.csv')"
      ],
      "metadata": {
        "colab": {
          "base_uri": "https://localhost:8080/",
          "height": 17
        },
        "id": "Sfr0b6LaRCf5",
        "outputId": "7ffa7ecf-d535-425e-bb34-ab3a890f583c"
      },
      "execution_count": null,
      "outputs": [
        {
          "output_type": "display_data",
          "data": {
            "text/plain": [
              "<IPython.core.display.Javascript object>"
            ],
            "application/javascript": [
              "\n",
              "    async function download(id, filename, size) {\n",
              "      if (!google.colab.kernel.accessAllowed) {\n",
              "        return;\n",
              "      }\n",
              "      const div = document.createElement('div');\n",
              "      const label = document.createElement('label');\n",
              "      label.textContent = `Downloading \"${filename}\": `;\n",
              "      div.appendChild(label);\n",
              "      const progress = document.createElement('progress');\n",
              "      progress.max = size;\n",
              "      div.appendChild(progress);\n",
              "      document.body.appendChild(div);\n",
              "\n",
              "      const buffers = [];\n",
              "      let downloaded = 0;\n",
              "\n",
              "      const channel = await google.colab.kernel.comms.open(id);\n",
              "      // Send a message to notify the kernel that we're ready.\n",
              "      channel.send({})\n",
              "\n",
              "      for await (const message of channel.messages) {\n",
              "        // Send a message to notify the kernel that we're ready.\n",
              "        channel.send({})\n",
              "        if (message.buffers) {\n",
              "          for (const buffer of message.buffers) {\n",
              "            buffers.push(buffer);\n",
              "            downloaded += buffer.byteLength;\n",
              "            progress.value = downloaded;\n",
              "          }\n",
              "        }\n",
              "      }\n",
              "      const blob = new Blob(buffers, {type: 'application/binary'});\n",
              "      const a = document.createElement('a');\n",
              "      a.href = window.URL.createObjectURL(blob);\n",
              "      a.download = filename;\n",
              "      div.appendChild(a);\n",
              "      a.click();\n",
              "      div.remove();\n",
              "    }\n",
              "  "
            ]
          },
          "metadata": {}
        },
        {
          "output_type": "display_data",
          "data": {
            "text/plain": [
              "<IPython.core.display.Javascript object>"
            ],
            "application/javascript": [
              "download(\"download_8619d4c8-d3c4-46df-a9f5-725e4efedb51\", \"test_pred_with_uid.csv\", 57011)"
            ]
          },
          "metadata": {}
        }
      ]
    },
    {
      "cell_type": "code",
      "source": [
        "# prompt: I have two files /content/test_pred_with_uid.csv and /content/test_pred_with_uid_new_imputation.csv find the number and percentage of similar acceptance status\n",
        "\n",
        "import pandas as pd\n",
        "\n",
        "# Load the two CSV files\n",
        "df1 = pd.read_csv('/content/test_pred_with_uid.csv')\n",
        "df2 = pd.read_csv('/content/test_pred_with_uid_new_imputation.csv')\n",
        "\n",
        "# Merge the two DataFrames on the 'UID' column\n",
        "merged_df = pd.merge(df1, df2, on='UID', suffixes=('_old', '_new'))\n",
        "\n",
        "# Count the number of rows where the 'Prediction' columns match\n",
        "num_similar = (merged_df['Prediction_old'] == merged_df['Prediction_new']).sum()\n",
        "\n",
        "# Calculate the percentage of similar predictions\n",
        "percentage_similar = (num_similar / len(merged_df)) * 100\n",
        "\n",
        "print(f\"Number of similar acceptance statuses: {num_similar}\")\n",
        "print(f\"Percentage of similar acceptance statuses: {percentage_similar:.2f}%\")\n"
      ],
      "metadata": {
        "colab": {
          "base_uri": "https://localhost:8080/"
        },
        "id": "EMqvwmaDRDs9",
        "outputId": "f9a4fda9-3c86-4f12-83d7-1d87339d604e"
      },
      "execution_count": null,
      "outputs": [
        {
          "output_type": "stream",
          "name": "stdout",
          "text": [
            "Number of similar acceptance statuses: 1711\n",
            "Percentage of similar acceptance statuses: 85.55%\n"
          ]
        }
      ]
    },
    {
      "cell_type": "code",
      "source": [
        "# prompt: From this /content/prediction.csv\n",
        "#  draw the plot of accepted and disaproved and give the ratio approved_ratio = status_counts[1] / status_counts.sum()\n",
        "# disapproved_ratio = status_counts[0] / status_counts.sum()\n",
        "# print(f\"Approved Ratio: {approved_ratio:.2f}\")\n",
        "# print(f\"Disapproved Ratio: {disapproved_ratio:.2f}\")\n",
        "\n",
        "import pandas as pd\n",
        "import matplotlib.pyplot as plt\n",
        "\n",
        "# Load the CSV file\n",
        "df = pd.read_csv('/content/prediction.csv')\n",
        "\n",
        "# Count the occurrences of each status\n",
        "status_counts = df['Prediction'].value_counts()\n",
        "\n",
        "# Plot the counts\n",
        "plt.bar(status_counts.index, status_counts.values)\n",
        "plt.xlabel('Status')\n",
        "plt.ylabel('Count')\n",
        "plt.title('Distribution of Approved and Disapproved')\n",
        "plt.show()\n",
        "\n",
        "# Calculate the ratios\n",
        "approved_ratio = status_counts[1] / status_counts.sum()\n",
        "disapproved_ratio = status_counts[0] / status_counts.sum()\n",
        "\n",
        "print(f\"Approved Ratio: {approved_ratio:.2f}\")\n",
        "print(f\"Disapproved Ratio: {disapproved_ratio:.2f}\")\n"
      ],
      "metadata": {
        "id": "U5UVd1vTRjAM",
        "colab": {
          "base_uri": "https://localhost:8080/",
          "height": 596
        },
        "outputId": "df2cab1a-2c5d-4f43-c158-add8e294d807"
      },
      "execution_count": 64,
      "outputs": [
        {
          "output_type": "display_data",
          "data": {
            "text/plain": [
              "<Figure size 640x480 with 1 Axes>"
            ],
            "image/png": "[encoded data removed]"
          },
          "metadata": {}
        },
        {
          "output_type": "stream",
          "name": "stdout",
          "text": [
            "Approved Ratio: 0.29\n",
            "Disapproved Ratio: 0.71\n"
          ]
        },
        {
          "output_type": "stream",
          "name": "stderr",
          "text": [
            "<ipython-input-64-bb793c2248cb>:24: FutureWarning: Series.__getitem__ treating keys as positions is deprecated. In a future version, integer keys will always be treated as labels (consistent with DataFrame behavior). To access a value by position, use `ser.iloc[pos]`\n",
            "  approved_ratio = status_counts[1] / status_counts.sum()\n",
            "<ipython-input-64-bb793c2248cb>:25: FutureWarning: Series.__getitem__ treating keys as positions is deprecated. In a future version, integer keys will always be treated as labels (consistent with DataFrame behavior). To access a value by position, use `ser.iloc[pos]`\n",
            "  disapproved_ratio = status_counts[0] / status_counts.sum()\n"
          ]
        }
      ]
    },
    {
      "cell_type": "code",
      "source": [],
      "metadata": {
        "id": "OViHifOEl7Fe"
      },
      "execution_count": null,
      "outputs": []
    }
  ]
}